{
 "cells": [
  {
   "cell_type": "code",
   "execution_count": 4,
   "id": "44f7890a",
   "metadata": {},
   "outputs": [],
   "source": [
    "from geo_calcs.extract import xdd \n",
    "import pandas as pd\n",
    "pd.set_option('display.max_rows', None)\n",
    "pd.set_option('display.max_columns', None)\n",
    "pd.set_option('display.width', None)\n",
    "pd.set_option('display.max_colwidth', None)\n",
    "import requests"
   ]
  },
  {
   "cell_type": "code",
   "execution_count": 5,
   "id": "bac3ca05",
   "metadata": {},
   "outputs": [],
   "source": [
    "locations = ['Cunningham Formation']\n",
    "config_file = 'config.xlsx'\n",
    "ages_df = pd.read_excel(config_file, sheet_name='ages')\n",
    "age_list = xdd.get_term_list(ages_df, 'geological_age')\n",
    "terms_df = pd.read_excel(config_file, sheet_name='terms')\n",
    "rock_names = xdd.get_term_list(terms_df, 'rock_names')"
   ]
  },
  {
   "cell_type": "code",
   "execution_count": 6,
   "id": "0debbf69",
   "metadata": {},
   "outputs": [],
   "source": [
    "df = xdd.snippet_search(locations, age_list)"
   ]
  },
  {
   "cell_type": "code",
   "execution_count": null,
   "id": "dabe89c2",
   "metadata": {},
   "outputs": [],
   "source": [
    "loc_freq = []\n",
    "key_freq = []\n",
    "proximities = []\n",
    "word_count = []\n",
    "\n",
    "\n",
    "for index, row in df.iterrows():\n",
    "    location = row['location'].lower()\n",
    "    loc_nospace = row['location'].lower().replace(' ','')\n",
    "    keyword = row['keyword'].lower()\n",
    "    key_nospace = row['keyword'].lower().replace(' ','')\n",
    "    highlight = str(row['text_mining']).lower().replace(location,loc_nospace)\n",
    "    print(highlight)\n",
    "    \n",
    "    proximity = xdd.distance(highlight, loc_nospace, key_nospace)\n",
    "    proximities.append(proximity)\n",
    "\n",
    "df['proximity_score'] = proximities\n"
   ]
  },
  {
   "cell_type": "code",
   "execution_count": null,
   "id": "cdabd217",
   "metadata": {
    "scrolled": false
   },
   "outputs": [],
   "source": [
    "df[['highlight', 'text_mining', 'location', 'keyword', 'proximity_score']]"
   ]
  },
  {
   "cell_type": "code",
   "execution_count": null,
   "id": "8f384b6f",
   "metadata": {},
   "outputs": [],
   "source": [
    "df.groupby(['keyword'])['keyword'].count().sort_values(ascending=False)"
   ]
  }
 ],
 "metadata": {
  "kernelspec": {
   "display_name": "Python 3 (ipykernel)",
   "language": "python",
   "name": "python3"
  },
  "language_info": {
   "codemirror_mode": {
    "name": "ipython",
    "version": 3
   },
   "file_extension": ".py",
   "mimetype": "text/x-python",
   "name": "python",
   "nbconvert_exporter": "python",
   "pygments_lexer": "ipython3",
   "version": "3.7.11"
  }
 },
 "nbformat": 4,
 "nbformat_minor": 5
}
